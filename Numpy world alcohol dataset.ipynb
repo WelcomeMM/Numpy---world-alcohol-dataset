{
 "cells": [
  {
   "cell_type": "markdown",
   "metadata": {},
   "source": [
    "\n",
    "# Create a list and a matrix with numpy "
   ]
  },
  {
   "cell_type": "code",
   "execution_count": 1,
   "metadata": {},
   "outputs": [],
   "source": [
    "import numpy as np"
   ]
  },
  {
   "cell_type": "code",
   "execution_count": 2,
   "metadata": {},
   "outputs": [
    {
     "name": "stdout",
     "output_type": "stream",
     "text": [
      "[10 20 30]\n"
     ]
    }
   ],
   "source": [
    "vector = np.array([10, 20, 30])\n",
    "print(vector)"
   ]
  },
  {
   "cell_type": "code",
   "execution_count": 3,
   "metadata": {},
   "outputs": [
    {
     "name": "stdout",
     "output_type": "stream",
     "text": [
      "[[ 5 10 15]\n",
      " [20 25 30]\n",
      " [35 40 45]]\n"
     ]
    }
   ],
   "source": [
    "matrix = np.array([[5, 10, 15], [20, 25, 30], [35, 40,45]])\n",
    "print(matrix)"
   ]
  },
  {
   "cell_type": "code",
   "execution_count": 4,
   "metadata": {},
   "outputs": [],
   "source": [
    "vector_shape = vector.shape\n",
    "matrix_shape = matrix.shape"
   ]
  },
  {
   "cell_type": "code",
   "execution_count": 5,
   "metadata": {},
   "outputs": [
    {
     "name": "stdout",
     "output_type": "stream",
     "text": [
      "(3,)\n"
     ]
    }
   ],
   "source": [
    "print(vector_shape)"
   ]
  },
  {
   "cell_type": "code",
   "execution_count": 6,
   "metadata": {},
   "outputs": [
    {
     "data": {
      "text/plain": [
       "(3, 3)"
      ]
     },
     "execution_count": 6,
     "metadata": {},
     "output_type": "execute_result"
    }
   ],
   "source": [
    "matrix_shape"
   ]
  },
  {
   "cell_type": "markdown",
   "metadata": {},
   "source": [
    "# World alcohol dataset\n"
   ]
  },
  {
   "cell_type": "code",
   "execution_count": 7,
   "metadata": {},
   "outputs": [],
   "source": [
    "world_alcohol = np.genfromtxt(\"world_alcohol.csv\", delimiter=\",\", dtype=\"U75\", skip_header=1)"
   ]
  },
  {
   "cell_type": "code",
   "execution_count": 8,
   "metadata": {},
   "outputs": [
    {
     "name": "stdout",
     "output_type": "stream",
     "text": [
      "<class 'numpy.ndarray'>\n"
     ]
    }
   ],
   "source": [
    "print(type(world_alcohol))"
   ]
  },
  {
   "cell_type": "code",
   "execution_count": 9,
   "metadata": {},
   "outputs": [
    {
     "data": {
      "text/plain": [
       "dtype('<U75')"
      ]
     },
     "execution_count": 9,
     "metadata": {},
     "output_type": "execute_result"
    }
   ],
   "source": [
    "world_alcohol_dtype = world_alcohol.dtype\n",
    "world_alcohol_dtype"
   ]
  },
  {
   "cell_type": "code",
   "execution_count": 10,
   "metadata": {},
   "outputs": [
    {
     "data": {
      "text/plain": [
       "array([['1986', 'Western Pacific', 'Viet Nam', 'Wine', '0'],\n",
       "       ['1986', 'Americas', 'Uruguay', 'Other', '0.5'],\n",
       "       ['1985', 'Africa', \"Cte d'Ivoire\", 'Wine', '1.62'],\n",
       "       ...,\n",
       "       ['1986', 'Europe', 'Switzerland', 'Spirits', '2.54'],\n",
       "       ['1987', 'Western Pacific', 'Papua New Guinea', 'Other', '0'],\n",
       "       ['1986', 'Africa', 'Swaziland', 'Other', '5.15']], dtype='<U75')"
      ]
     },
     "execution_count": 10,
     "metadata": {},
     "output_type": "execute_result"
    }
   ],
   "source": [
    "world_alcohol"
   ]
  },
  {
   "cell_type": "code",
   "execution_count": 11,
   "metadata": {},
   "outputs": [
    {
     "name": "stdout",
     "output_type": "stream",
     "text": [
      "1.62\n",
      "Uruguay\n"
     ]
    }
   ],
   "source": [
    "ivoire_country = world_alcohol[2,4]\n",
    "second_country = world_alcohol[1,2]\n",
    "\n",
    "print(ivoire_country)\n",
    "print(second_country)"
   ]
  },
  {
   "cell_type": "code",
   "execution_count": 12,
   "metadata": {},
   "outputs": [],
   "source": [
    "countries = world_alcohol[:,2]\n",
    "alcohol_consumption = world_alcohol[:, 4]"
   ]
  },
  {
   "cell_type": "code",
   "execution_count": 13,
   "metadata": {},
   "outputs": [
    {
     "name": "stdout",
     "output_type": "stream",
     "text": [
      "['Viet Nam' 'Uruguay' \"Cte d'Ivoire\" ... 'Switzerland' 'Papua New Guinea'\n",
      " 'Swaziland']\n"
     ]
    }
   ],
   "source": [
    "print(countries)"
   ]
  },
  {
   "cell_type": "code",
   "execution_count": 14,
   "metadata": {},
   "outputs": [
    {
     "name": "stdout",
     "output_type": "stream",
     "text": [
      "['0' '0.5' '1.62' ... '2.54' '0' '5.15']\n"
     ]
    }
   ],
   "source": [
    "print(alcohol_consumption)"
   ]
  },
  {
   "cell_type": "code",
   "execution_count": 15,
   "metadata": {},
   "outputs": [
    {
     "name": "stdout",
     "output_type": "stream",
     "text": [
      "[['1986' 'Western Pacific']\n",
      " ['1986' 'Americas']\n",
      " ['1985' 'Africa']\n",
      " ...\n",
      " ['1986' 'Europe']\n",
      " ['1987' 'Western Pacific']\n",
      " ['1986' 'Africa']]\n"
     ]
    }
   ],
   "source": [
    "first_two_columns = world_alcohol[:, :2]\n",
    "print(first_two_columns)"
   ]
  },
  {
   "cell_type": "code",
   "execution_count": 16,
   "metadata": {},
   "outputs": [
    {
     "name": "stdout",
     "output_type": "stream",
     "text": [
      "['1986' '1986' '1985' '1986' '1987' '1987' '1987' '1985' '1986' '1984']\n"
     ]
    }
   ],
   "source": [
    "first_ten_years = world_alcohol[:10,0]\n",
    "print(first_ten_years)"
   ]
  },
  {
   "cell_type": "code",
   "execution_count": 17,
   "metadata": {},
   "outputs": [
    {
     "name": "stdout",
     "output_type": "stream",
     "text": [
      "[['1986' 'Western Pacific' 'Viet Nam' 'Wine' '0']\n",
      " ['1986' 'Americas' 'Uruguay' 'Other' '0.5']\n",
      " ['1985' 'Africa' \"Cte d'Ivoire\" 'Wine' '1.62']\n",
      " ['1986' 'Americas' 'Colombia' 'Beer' '4.27']\n",
      " ['1987' 'Americas' 'Saint Kitts and Nevis' 'Beer' '1.98']\n",
      " ['1987' 'Americas' 'Guatemala' 'Other' '0']\n",
      " ['1987' 'Africa' 'Mauritius' 'Wine' '0.13']\n",
      " ['1985' 'Africa' 'Angola' 'Spirits' '0.39']\n",
      " ['1986' 'Americas' 'Antigua and Barbuda' 'Spirits' '1.55']\n",
      " ['1984' 'Africa' 'Nigeria' 'Other' '6.1']]\n"
     ]
    }
   ],
   "source": [
    "first_ten_rows = world_alcohol[:10,:]\n",
    "print(first_ten_rows)"
   ]
  },
  {
   "cell_type": "code",
   "execution_count": 18,
   "metadata": {},
   "outputs": [
    {
     "name": "stdout",
     "output_type": "stream",
     "text": [
      "[['Western Pacific' 'Viet Nam']\n",
      " ['Americas' 'Uruguay']\n",
      " ['Africa' \"Cte d'Ivoire\"]\n",
      " ['Americas' 'Colombia']\n",
      " ['Americas' 'Saint Kitts and Nevis']\n",
      " ['Americas' 'Guatemala']\n",
      " ['Africa' 'Mauritius']\n",
      " ['Africa' 'Angola']\n",
      " ['Americas' 'Antigua and Barbuda']\n",
      " ['Africa' 'Nigeria']\n",
      " ['Africa' 'Botswana']\n",
      " ['Americas' 'Guatemala']\n",
      " ['Western Pacific' \"Lao People's Democratic Republic\"]\n",
      " ['Eastern Mediterranean' 'Afghanistan']\n",
      " ['Western Pacific' 'Viet Nam']\n",
      " ['Africa' 'Guinea-Bissau']\n",
      " ['Americas' 'Costa Rica']\n",
      " ['Africa' 'Seychelles']\n",
      " ['Europe' 'Norway']\n",
      " ['Africa' 'Kenya']]\n"
     ]
    }
   ],
   "source": [
    "first_twenty_regions = world_alcohol[:20, 1:3]\n",
    "print(first_twenty_regions)"
   ]
  },
  {
   "cell_type": "markdown",
   "metadata": {},
   "source": [
    "\n",
    "# Comparaison with numpy "
   ]
  },
  {
   "cell_type": "code",
   "execution_count": 19,
   "metadata": {},
   "outputs": [
    {
     "data": {
      "text/plain": [
       "array([['1986', 'Western Pacific', 'Viet Nam', 'Wine', '0'],\n",
       "       ['1986', 'Americas', 'Uruguay', 'Other', '0.5'],\n",
       "       ['1985', 'Africa', \"Cte d'Ivoire\", 'Wine', '1.62'],\n",
       "       ...,\n",
       "       ['1986', 'Europe', 'Switzerland', 'Spirits', '2.54'],\n",
       "       ['1987', 'Western Pacific', 'Papua New Guinea', 'Other', '0'],\n",
       "       ['1986', 'Africa', 'Swaziland', 'Other', '5.15']], dtype='<U75')"
      ]
     },
     "execution_count": 19,
     "metadata": {},
     "output_type": "execute_result"
    }
   ],
   "source": [
    "world_alcohol = np.genfromtxt(\"world_alcohol.csv\", delimiter=\",\", dtype=\"U75\", skip_header=1)\n",
    "world_alcohol"
   ]
  },
  {
   "cell_type": "code",
   "execution_count": 20,
   "metadata": {},
   "outputs": [
    {
     "name": "stdout",
     "output_type": "stream",
     "text": [
      "['Viet Nam' 'Uruguay' \"Cte d'Ivoire\" ... 'Switzerland' 'Papua New Guinea'\n",
      " 'Swaziland']\n"
     ]
    }
   ],
   "source": [
    "country_canada = world_alcohol[:,2]\n",
    "print(country_canada)"
   ]
  },
  {
   "cell_type": "code",
   "execution_count": 21,
   "metadata": {},
   "outputs": [
    {
     "name": "stdout",
     "output_type": "stream",
     "text": [
      "Canada at index : 146\n",
      "Canada at index : 274\n",
      "Canada at index : 352\n",
      "Canada at index : 547\n",
      "Canada at index : 571\n",
      "Canada at index : 1152\n",
      "Canada at index : 1269\n",
      "Canada at index : 1625\n",
      "Canada at index : 1707\n",
      "Canada at index : 2059\n",
      "Canada at index : 2090\n",
      "Canada at index : 2308\n",
      "Canada at index : 2540\n",
      "Canada at index : 3068\n",
      "Canada at index : 3069\n",
      "Canada at index : 3089\n",
      "Canada at index : 3139\n",
      "Canada at index : 3153\n",
      "Canada at index : 3211\n",
      "Canada at index : 3237\n"
     ]
    }
   ],
   "source": [
    "for i in range(country_canada.shape[0]):\n",
    "    if country_canada[i] == \"Canada\":\n",
    "        print(f\"Canada at index : {i}\")"
   ]
  },
  {
   "cell_type": "code",
   "execution_count": 22,
   "metadata": {},
   "outputs": [
    {
     "data": {
      "text/plain": [
       "'Canada'"
      ]
     },
     "execution_count": 22,
     "metadata": {},
     "output_type": "execute_result"
    }
   ],
   "source": [
    "world_alcohol[571,2]"
   ]
  },
  {
   "cell_type": "code",
   "execution_count": 23,
   "metadata": {},
   "outputs": [
    {
     "name": "stdout",
     "output_type": "stream",
     "text": [
      "['1986' '1986' '1985' ... '1986' '1987' '1986']\n"
     ]
    }
   ],
   "source": [
    "year_1984 = world_alcohol[:,0]\n",
    "print(year_1984)"
   ]
  },
  {
   "cell_type": "code",
   "execution_count": 24,
   "metadata": {},
   "outputs": [
    {
     "data": {
      "text/plain": [
       "array([False, False, False, ..., False, False, False])"
      ]
     },
     "execution_count": 24,
     "metadata": {},
     "output_type": "execute_result"
    }
   ],
   "source": [
    "year_1984 == \"1984\""
   ]
  },
  {
   "cell_type": "code",
   "execution_count": 25,
   "metadata": {},
   "outputs": [
    {
     "name": "stdout",
     "output_type": "stream",
     "text": [
      "1984 at index : 9\n",
      "1984 at index : 13\n",
      "1984 at index : 16\n",
      "1984 at index : 18\n",
      "1984 at index : 19\n",
      "1984 at index : 22\n",
      "1984 at index : 23\n",
      "1984 at index : 25\n",
      "1984 at index : 27\n",
      "1984 at index : 42\n",
      "1984 at index : 43\n",
      "1984 at index : 53\n",
      "1984 at index : 54\n",
      "1984 at index : 58\n",
      "1984 at index : 61\n",
      "1984 at index : 95\n",
      "1984 at index : 97\n",
      "1984 at index : 98\n",
      "1984 at index : 109\n",
      "1984 at index : 117\n",
      "1984 at index : 127\n",
      "1984 at index : 128\n",
      "1984 at index : 132\n",
      "1984 at index : 135\n",
      "1984 at index : 146\n",
      "1984 at index : 160\n",
      "1984 at index : 163\n",
      "1984 at index : 165\n",
      "1984 at index : 172\n",
      "1984 at index : 174\n",
      "1984 at index : 178\n",
      "1984 at index : 181\n",
      "1984 at index : 205\n",
      "1984 at index : 214\n",
      "1984 at index : 222\n",
      "1984 at index : 240\n",
      "1984 at index : 245\n",
      "1984 at index : 253\n",
      "1984 at index : 260\n",
      "1984 at index : 262\n",
      "1984 at index : 267\n",
      "1984 at index : 269\n",
      "1984 at index : 276\n",
      "1984 at index : 277\n",
      "1984 at index : 283\n",
      "1984 at index : 296\n",
      "1984 at index : 300\n",
      "1984 at index : 302\n",
      "1984 at index : 305\n",
      "1984 at index : 307\n",
      "1984 at index : 308\n",
      "1984 at index : 310\n",
      "1984 at index : 312\n",
      "1984 at index : 313\n",
      "1984 at index : 316\n",
      "1984 at index : 326\n",
      "1984 at index : 352\n",
      "1984 at index : 356\n",
      "1984 at index : 359\n",
      "1984 at index : 361\n",
      "1984 at index : 365\n",
      "1984 at index : 367\n",
      "1984 at index : 372\n",
      "1984 at index : 375\n",
      "1984 at index : 381\n",
      "1984 at index : 386\n",
      "1984 at index : 387\n",
      "1984 at index : 388\n",
      "1984 at index : 389\n",
      "1984 at index : 392\n",
      "1984 at index : 400\n",
      "1984 at index : 407\n",
      "1984 at index : 413\n",
      "1984 at index : 426\n",
      "1984 at index : 434\n",
      "1984 at index : 444\n",
      "1984 at index : 445\n",
      "1984 at index : 457\n",
      "1984 at index : 460\n",
      "1984 at index : 461\n",
      "1984 at index : 463\n",
      "1984 at index : 466\n",
      "1984 at index : 467\n",
      "1984 at index : 475\n",
      "1984 at index : 483\n",
      "1984 at index : 484\n",
      "1984 at index : 488\n",
      "1984 at index : 489\n",
      "1984 at index : 490\n",
      "1984 at index : 496\n",
      "1984 at index : 504\n",
      "1984 at index : 518\n",
      "1984 at index : 521\n",
      "1984 at index : 531\n",
      "1984 at index : 533\n",
      "1984 at index : 534\n",
      "1984 at index : 539\n",
      "1984 at index : 553\n",
      "1984 at index : 562\n",
      "1984 at index : 564\n",
      "1984 at index : 570\n",
      "1984 at index : 572\n",
      "1984 at index : 588\n",
      "1984 at index : 609\n",
      "1984 at index : 616\n",
      "1984 at index : 617\n",
      "1984 at index : 619\n",
      "1984 at index : 621\n",
      "1984 at index : 622\n",
      "1984 at index : 633\n",
      "1984 at index : 639\n",
      "1984 at index : 642\n",
      "1984 at index : 645\n",
      "1984 at index : 653\n",
      "1984 at index : 654\n",
      "1984 at index : 656\n",
      "1984 at index : 657\n",
      "1984 at index : 668\n",
      "1984 at index : 675\n",
      "1984 at index : 679\n",
      "1984 at index : 684\n",
      "1984 at index : 690\n",
      "1984 at index : 691\n",
      "1984 at index : 692\n",
      "1984 at index : 696\n",
      "1984 at index : 698\n",
      "1984 at index : 699\n",
      "1984 at index : 703\n",
      "1984 at index : 710\n",
      "1984 at index : 713\n",
      "1984 at index : 715\n",
      "1984 at index : 716\n",
      "1984 at index : 724\n",
      "1984 at index : 725\n",
      "1984 at index : 736\n",
      "1984 at index : 737\n",
      "1984 at index : 742\n",
      "1984 at index : 745\n",
      "1984 at index : 747\n",
      "1984 at index : 760\n",
      "1984 at index : 761\n",
      "1984 at index : 765\n",
      "1984 at index : 768\n",
      "1984 at index : 769\n",
      "1984 at index : 771\n",
      "1984 at index : 772\n",
      "1984 at index : 773\n",
      "1984 at index : 774\n",
      "1984 at index : 776\n",
      "1984 at index : 779\n",
      "1984 at index : 785\n",
      "1984 at index : 794\n",
      "1984 at index : 801\n",
      "1984 at index : 809\n",
      "1984 at index : 810\n",
      "1984 at index : 825\n",
      "1984 at index : 838\n",
      "1984 at index : 841\n",
      "1984 at index : 843\n",
      "1984 at index : 845\n",
      "1984 at index : 847\n",
      "1984 at index : 848\n",
      "1984 at index : 851\n",
      "1984 at index : 858\n",
      "1984 at index : 859\n",
      "1984 at index : 866\n",
      "1984 at index : 880\n",
      "1984 at index : 881\n",
      "1984 at index : 882\n",
      "1984 at index : 885\n",
      "1984 at index : 886\n",
      "1984 at index : 888\n",
      "1984 at index : 901\n",
      "1984 at index : 904\n",
      "1984 at index : 916\n",
      "1984 at index : 918\n",
      "1984 at index : 920\n",
      "1984 at index : 923\n",
      "1984 at index : 924\n",
      "1984 at index : 929\n",
      "1984 at index : 932\n",
      "1984 at index : 933\n",
      "1984 at index : 934\n",
      "1984 at index : 935\n",
      "1984 at index : 945\n",
      "1984 at index : 949\n",
      "1984 at index : 950\n",
      "1984 at index : 952\n",
      "1984 at index : 954\n",
      "1984 at index : 957\n",
      "1984 at index : 959\n",
      "1984 at index : 969\n",
      "1984 at index : 975\n",
      "1984 at index : 976\n",
      "1984 at index : 982\n",
      "1984 at index : 984\n",
      "1984 at index : 1007\n",
      "1984 at index : 1014\n",
      "1984 at index : 1018\n",
      "1984 at index : 1026\n",
      "1984 at index : 1028\n",
      "1984 at index : 1030\n",
      "1984 at index : 1031\n",
      "1984 at index : 1039\n",
      "1984 at index : 1052\n",
      "1984 at index : 1059\n",
      "1984 at index : 1060\n",
      "1984 at index : 1077\n",
      "1984 at index : 1080\n",
      "1984 at index : 1088\n",
      "1984 at index : 1089\n",
      "1984 at index : 1090\n",
      "1984 at index : 1093\n",
      "1984 at index : 1097\n",
      "1984 at index : 1106\n",
      "1984 at index : 1107\n",
      "1984 at index : 1123\n",
      "1984 at index : 1125\n",
      "1984 at index : 1142\n",
      "1984 at index : 1143\n",
      "1984 at index : 1153\n",
      "1984 at index : 1159\n",
      "1984 at index : 1162\n",
      "1984 at index : 1163\n",
      "1984 at index : 1167\n",
      "1984 at index : 1169\n",
      "1984 at index : 1172\n",
      "1984 at index : 1177\n",
      "1984 at index : 1182\n",
      "1984 at index : 1197\n",
      "1984 at index : 1207\n",
      "1984 at index : 1208\n",
      "1984 at index : 1227\n",
      "1984 at index : 1230\n",
      "1984 at index : 1231\n",
      "1984 at index : 1236\n",
      "1984 at index : 1240\n",
      "1984 at index : 1248\n",
      "1984 at index : 1249\n",
      "1984 at index : 1250\n",
      "1984 at index : 1254\n",
      "1984 at index : 1257\n",
      "1984 at index : 1261\n",
      "1984 at index : 1262\n",
      "1984 at index : 1265\n",
      "1984 at index : 1270\n",
      "1984 at index : 1273\n",
      "1984 at index : 1278\n",
      "1984 at index : 1285\n",
      "1984 at index : 1298\n",
      "1984 at index : 1300\n",
      "1984 at index : 1304\n",
      "1984 at index : 1305\n",
      "1984 at index : 1309\n",
      "1984 at index : 1313\n",
      "1984 at index : 1321\n",
      "1984 at index : 1328\n",
      "1984 at index : 1336\n",
      "1984 at index : 1337\n",
      "1984 at index : 1358\n",
      "1984 at index : 1359\n",
      "1984 at index : 1362\n",
      "1984 at index : 1371\n",
      "1984 at index : 1372\n",
      "1984 at index : 1377\n",
      "1984 at index : 1387\n",
      "1984 at index : 1394\n",
      "1984 at index : 1395\n",
      "1984 at index : 1399\n",
      "1984 at index : 1400\n",
      "1984 at index : 1409\n",
      "1984 at index : 1410\n",
      "1984 at index : 1411\n",
      "1984 at index : 1414\n",
      "1984 at index : 1427\n",
      "1984 at index : 1433\n",
      "1984 at index : 1442\n",
      "1984 at index : 1448\n",
      "1984 at index : 1452\n",
      "1984 at index : 1456\n",
      "1984 at index : 1463\n",
      "1984 at index : 1465\n",
      "1984 at index : 1466\n",
      "1984 at index : 1472\n",
      "1984 at index : 1480\n",
      "1984 at index : 1484\n",
      "1984 at index : 1487\n",
      "1984 at index : 1492\n",
      "1984 at index : 1495\n",
      "1984 at index : 1502\n",
      "1984 at index : 1504\n",
      "1984 at index : 1506\n",
      "1984 at index : 1518\n",
      "1984 at index : 1519\n",
      "1984 at index : 1520\n",
      "1984 at index : 1521\n",
      "1984 at index : 1533\n",
      "1984 at index : 1535\n",
      "1984 at index : 1540\n",
      "1984 at index : 1541\n",
      "1984 at index : 1556\n",
      "1984 at index : 1558\n",
      "1984 at index : 1559\n",
      "1984 at index : 1574\n",
      "1984 at index : 1575\n",
      "1984 at index : 1580\n",
      "1984 at index : 1581\n",
      "1984 at index : 1594\n",
      "1984 at index : 1600\n",
      "1984 at index : 1601\n",
      "1984 at index : 1610\n",
      "1984 at index : 1613\n",
      "1984 at index : 1614\n",
      "1984 at index : 1623\n",
      "1984 at index : 1644\n",
      "1984 at index : 1660\n",
      "1984 at index : 1663\n",
      "1984 at index : 1669\n",
      "1984 at index : 1670\n",
      "1984 at index : 1686\n",
      "1984 at index : 1695\n",
      "1984 at index : 1698\n",
      "1984 at index : 1701\n",
      "1984 at index : 1705\n",
      "1984 at index : 1711\n",
      "1984 at index : 1718\n",
      "1984 at index : 1720\n",
      "1984 at index : 1721\n",
      "1984 at index : 1723\n",
      "1984 at index : 1724\n",
      "1984 at index : 1725\n",
      "1984 at index : 1726\n",
      "1984 at index : 1730\n",
      "1984 at index : 1733\n",
      "1984 at index : 1735\n",
      "1984 at index : 1741\n",
      "1984 at index : 1746\n",
      "1984 at index : 1752\n",
      "1984 at index : 1754\n",
      "1984 at index : 1760\n",
      "1984 at index : 1761\n",
      "1984 at index : 1765\n",
      "1984 at index : 1766\n",
      "1984 at index : 1769\n",
      "1984 at index : 1771\n",
      "1984 at index : 1773\n",
      "1984 at index : 1780\n",
      "1984 at index : 1786\n",
      "1984 at index : 1793\n",
      "1984 at index : 1794\n",
      "1984 at index : 1795\n",
      "1984 at index : 1796\n",
      "1984 at index : 1797\n",
      "1984 at index : 1798\n",
      "1984 at index : 1800\n",
      "1984 at index : 1802\n",
      "1984 at index : 1805\n",
      "1984 at index : 1808\n",
      "1984 at index : 1823\n",
      "1984 at index : 1828\n",
      "1984 at index : 1833\n",
      "1984 at index : 1847\n",
      "1984 at index : 1848\n",
      "1984 at index : 1860\n",
      "1984 at index : 1861\n",
      "1984 at index : 1862\n",
      "1984 at index : 1866\n",
      "1984 at index : 1870\n",
      "1984 at index : 1883\n",
      "1984 at index : 1884\n",
      "1984 at index : 1886\n",
      "1984 at index : 1914\n",
      "1984 at index : 1915\n",
      "1984 at index : 1920\n",
      "1984 at index : 1927\n",
      "1984 at index : 1936\n",
      "1984 at index : 1943\n",
      "1984 at index : 1944\n",
      "1984 at index : 1950\n",
      "1984 at index : 1952\n",
      "1984 at index : 1953\n",
      "1984 at index : 1964\n",
      "1984 at index : 1966\n",
      "1984 at index : 1967\n",
      "1984 at index : 1968\n",
      "1984 at index : 1970\n",
      "1984 at index : 1974\n",
      "1984 at index : 1978\n",
      "1984 at index : 1980\n",
      "1984 at index : 1983\n",
      "1984 at index : 1991\n",
      "1984 at index : 1992\n",
      "1984 at index : 1995\n",
      "1984 at index : 2007\n",
      "1984 at index : 2012\n",
      "1984 at index : 2023\n",
      "1984 at index : 2027\n",
      "1984 at index : 2029\n",
      "1984 at index : 2035\n",
      "1984 at index : 2037\n"
     ]
    },
    {
     "name": "stdout",
     "output_type": "stream",
     "text": [
      "1984 at index : 2038\n",
      "1984 at index : 2050\n",
      "1984 at index : 2065\n",
      "1984 at index : 2076\n",
      "1984 at index : 2079\n",
      "1984 at index : 2094\n",
      "1984 at index : 2103\n",
      "1984 at index : 2107\n",
      "1984 at index : 2122\n",
      "1984 at index : 2125\n",
      "1984 at index : 2128\n",
      "1984 at index : 2141\n",
      "1984 at index : 2145\n",
      "1984 at index : 2146\n",
      "1984 at index : 2150\n",
      "1984 at index : 2159\n",
      "1984 at index : 2166\n",
      "1984 at index : 2170\n",
      "1984 at index : 2173\n",
      "1984 at index : 2177\n",
      "1984 at index : 2183\n",
      "1984 at index : 2186\n",
      "1984 at index : 2194\n",
      "1984 at index : 2195\n",
      "1984 at index : 2204\n",
      "1984 at index : 2221\n",
      "1984 at index : 2236\n",
      "1984 at index : 2243\n",
      "1984 at index : 2244\n",
      "1984 at index : 2249\n",
      "1984 at index : 2253\n",
      "1984 at index : 2254\n",
      "1984 at index : 2270\n",
      "1984 at index : 2284\n",
      "1984 at index : 2286\n",
      "1984 at index : 2287\n",
      "1984 at index : 2292\n",
      "1984 at index : 2293\n",
      "1984 at index : 2308\n",
      "1984 at index : 2311\n",
      "1984 at index : 2313\n",
      "1984 at index : 2327\n",
      "1984 at index : 2329\n",
      "1984 at index : 2330\n",
      "1984 at index : 2341\n",
      "1984 at index : 2344\n",
      "1984 at index : 2345\n",
      "1984 at index : 2347\n",
      "1984 at index : 2349\n",
      "1984 at index : 2358\n",
      "1984 at index : 2361\n",
      "1984 at index : 2362\n",
      "1984 at index : 2364\n",
      "1984 at index : 2371\n",
      "1984 at index : 2385\n",
      "1984 at index : 2390\n",
      "1984 at index : 2401\n",
      "1984 at index : 2403\n",
      "1984 at index : 2407\n",
      "1984 at index : 2408\n",
      "1984 at index : 2410\n",
      "1984 at index : 2424\n",
      "1984 at index : 2430\n",
      "1984 at index : 2438\n",
      "1984 at index : 2442\n",
      "1984 at index : 2443\n",
      "1984 at index : 2446\n",
      "1984 at index : 2455\n",
      "1984 at index : 2456\n",
      "1984 at index : 2462\n",
      "1984 at index : 2471\n",
      "1984 at index : 2472\n",
      "1984 at index : 2474\n",
      "1984 at index : 2475\n",
      "1984 at index : 2488\n",
      "1984 at index : 2489\n",
      "1984 at index : 2491\n",
      "1984 at index : 2496\n",
      "1984 at index : 2497\n",
      "1984 at index : 2498\n",
      "1984 at index : 2504\n",
      "1984 at index : 2506\n",
      "1984 at index : 2516\n",
      "1984 at index : 2523\n",
      "1984 at index : 2524\n",
      "1984 at index : 2526\n",
      "1984 at index : 2534\n",
      "1984 at index : 2538\n",
      "1984 at index : 2548\n",
      "1984 at index : 2555\n",
      "1984 at index : 2557\n",
      "1984 at index : 2559\n",
      "1984 at index : 2560\n",
      "1984 at index : 2571\n",
      "1984 at index : 2572\n",
      "1984 at index : 2576\n",
      "1984 at index : 2578\n",
      "1984 at index : 2582\n",
      "1984 at index : 2583\n",
      "1984 at index : 2584\n",
      "1984 at index : 2586\n",
      "1984 at index : 2595\n",
      "1984 at index : 2599\n",
      "1984 at index : 2605\n",
      "1984 at index : 2608\n",
      "1984 at index : 2610\n",
      "1984 at index : 2611\n",
      "1984 at index : 2620\n",
      "1984 at index : 2625\n",
      "1984 at index : 2629\n",
      "1984 at index : 2635\n",
      "1984 at index : 2641\n",
      "1984 at index : 2651\n",
      "1984 at index : 2653\n",
      "1984 at index : 2657\n",
      "1984 at index : 2665\n",
      "1984 at index : 2666\n",
      "1984 at index : 2667\n",
      "1984 at index : 2681\n",
      "1984 at index : 2685\n",
      "1984 at index : 2691\n",
      "1984 at index : 2700\n",
      "1984 at index : 2701\n",
      "1984 at index : 2704\n",
      "1984 at index : 2709\n",
      "1984 at index : 2715\n",
      "1984 at index : 2716\n",
      "1984 at index : 2723\n",
      "1984 at index : 2724\n",
      "1984 at index : 2725\n",
      "1984 at index : 2726\n",
      "1984 at index : 2732\n",
      "1984 at index : 2735\n",
      "1984 at index : 2744\n",
      "1984 at index : 2745\n",
      "1984 at index : 2749\n",
      "1984 at index : 2751\n",
      "1984 at index : 2762\n",
      "1984 at index : 2763\n",
      "1984 at index : 2764\n",
      "1984 at index : 2765\n",
      "1984 at index : 2768\n",
      "1984 at index : 2769\n",
      "1984 at index : 2770\n",
      "1984 at index : 2778\n",
      "1984 at index : 2786\n",
      "1984 at index : 2788\n",
      "1984 at index : 2792\n",
      "1984 at index : 2793\n",
      "1984 at index : 2795\n",
      "1984 at index : 2801\n",
      "1984 at index : 2802\n",
      "1984 at index : 2805\n",
      "1984 at index : 2823\n",
      "1984 at index : 2828\n",
      "1984 at index : 2829\n",
      "1984 at index : 2830\n",
      "1984 at index : 2837\n",
      "1984 at index : 2838\n",
      "1984 at index : 2839\n",
      "1984 at index : 2844\n",
      "1984 at index : 2848\n",
      "1984 at index : 2852\n",
      "1984 at index : 2861\n",
      "1984 at index : 2862\n",
      "1984 at index : 2863\n",
      "1984 at index : 2865\n",
      "1984 at index : 2869\n",
      "1984 at index : 2871\n",
      "1984 at index : 2873\n",
      "1984 at index : 2878\n",
      "1984 at index : 2885\n",
      "1984 at index : 2890\n",
      "1984 at index : 2898\n",
      "1984 at index : 2910\n",
      "1984 at index : 2914\n",
      "1984 at index : 2917\n",
      "1984 at index : 2919\n",
      "1984 at index : 2920\n",
      "1984 at index : 2926\n",
      "1984 at index : 2934\n",
      "1984 at index : 2959\n",
      "1984 at index : 2960\n",
      "1984 at index : 2967\n",
      "1984 at index : 2969\n",
      "1984 at index : 2970\n",
      "1984 at index : 2975\n",
      "1984 at index : 2985\n",
      "1984 at index : 2992\n",
      "1984 at index : 2996\n",
      "1984 at index : 2999\n",
      "1984 at index : 3001\n",
      "1984 at index : 3012\n",
      "1984 at index : 3018\n",
      "1984 at index : 3025\n",
      "1984 at index : 3031\n",
      "1984 at index : 3033\n",
      "1984 at index : 3039\n",
      "1984 at index : 3041\n",
      "1984 at index : 3045\n",
      "1984 at index : 3046\n",
      "1984 at index : 3051\n",
      "1984 at index : 3056\n",
      "1984 at index : 3060\n",
      "1984 at index : 3068\n",
      "1984 at index : 3071\n",
      "1984 at index : 3076\n",
      "1984 at index : 3079\n",
      "1984 at index : 3083\n",
      "1984 at index : 3084\n",
      "1984 at index : 3090\n",
      "1984 at index : 3095\n",
      "1984 at index : 3099\n",
      "1984 at index : 3101\n",
      "1984 at index : 3107\n",
      "1984 at index : 3112\n",
      "1984 at index : 3117\n",
      "1984 at index : 3132\n",
      "1984 at index : 3135\n",
      "1984 at index : 3140\n",
      "1984 at index : 3143\n",
      "1984 at index : 3149\n",
      "1984 at index : 3150\n",
      "1984 at index : 3152\n",
      "1984 at index : 3155\n",
      "1984 at index : 3162\n",
      "1984 at index : 3173\n",
      "1984 at index : 3175\n",
      "1984 at index : 3182\n",
      "1984 at index : 3185\n",
      "1984 at index : 3189\n",
      "1984 at index : 3194\n",
      "1984 at index : 3198\n",
      "1984 at index : 3202\n",
      "1984 at index : 3207\n",
      "1984 at index : 3213\n",
      "1984 at index : 3215\n",
      "1984 at index : 3222\n",
      "1984 at index : 3223\n",
      "1984 at index : 3233\n",
      "1984 at index : 3234\n",
      "1984 at index : 3238\n",
      "1984 at index : 3241\n",
      "1984 at index : 3247\n",
      "1984 at index : 3251\n",
      "1984 at index : 3252\n"
     ]
    }
   ],
   "source": [
    "for i in range(year_1984.shape[0]):\n",
    "    if year_1984[i] == \"1984\":\n",
    "        print(f\"1984 at index : {i}\")\n",
    "    "
   ]
  },
  {
   "cell_type": "code",
   "execution_count": 26,
   "metadata": {},
   "outputs": [
    {
     "data": {
      "text/plain": [
       "array([False, False, False, ..., False, False, False])"
      ]
     },
     "execution_count": 26,
     "metadata": {},
     "output_type": "execute_result"
    }
   ],
   "source": [
    "contry_is_algeria = world_alcohol[:,2] == \"Algeria\"\n",
    "contry_is_algeria"
   ]
  },
  {
   "cell_type": "code",
   "execution_count": 27,
   "metadata": {},
   "outputs": [
    {
     "name": "stdout",
     "output_type": "stream",
     "text": [
      "[['1984' 'Africa' 'Algeria' 'Spirits' '0.01']\n",
      " ['1987' 'Africa' 'Algeria' 'Beer' '0.17']\n",
      " ['1987' 'Africa' 'Algeria' 'Spirits' '0.01']\n",
      " ['1986' 'Africa' 'Algeria' 'Wine' '0.1']\n",
      " ['1984' 'Africa' 'Algeria' 'Other' '0']\n",
      " ['1989' 'Africa' 'Algeria' 'Beer' '0.16']\n",
      " ['1989' 'Africa' 'Algeria' 'Spirits' '0.01']\n",
      " ['1989' 'Africa' 'Algeria' 'Wine' '0.23']\n",
      " ['1986' 'Africa' 'Algeria' 'Spirits' '0.01']\n",
      " ['1984' 'Africa' 'Algeria' 'Wine' '0.12']\n",
      " ['1985' 'Africa' 'Algeria' 'Beer' '0.19']\n",
      " ['1985' 'Africa' 'Algeria' 'Other' '0']\n",
      " ['1986' 'Africa' 'Algeria' 'Beer' '0.18']\n",
      " ['1985' 'Africa' 'Algeria' 'Wine' '0.11']\n",
      " ['1986' 'Africa' 'Algeria' 'Other' '0']\n",
      " ['1989' 'Africa' 'Algeria' 'Other' '0']\n",
      " ['1987' 'Africa' 'Algeria' 'Other' '0']\n",
      " ['1984' 'Africa' 'Algeria' 'Beer' '0.2']\n",
      " ['1985' 'Africa' 'Algeria' 'Spirits' '0.01']\n",
      " ['1987' 'Africa' 'Algeria' 'Wine' '0.1']]\n"
     ]
    }
   ],
   "source": [
    "contry_algeria = world_alcohol[contry_is_algeria]\n",
    "print(contry_algeria)"
   ]
  },
  {
   "cell_type": "code",
   "execution_count": 28,
   "metadata": {},
   "outputs": [
    {
     "data": {
      "text/plain": [
       "array([False, False, False, ..., False, False, False])"
      ]
     },
     "execution_count": 28,
     "metadata": {},
     "output_type": "execute_result"
    }
   ],
   "source": [
    "year_is_1984 = world_alcohol[:,0] == \"1984\"\n",
    "year_is_1984"
   ]
  },
  {
   "cell_type": "code",
   "execution_count": 29,
   "metadata": {},
   "outputs": [
    {
     "name": "stdout",
     "output_type": "stream",
     "text": [
      "[['1984' 'Africa' 'Nigeria' 'Other' '6.1']\n",
      " ['1984' 'Eastern Mediterranean' 'Afghanistan' 'Other' '0']\n",
      " ['1984' 'Americas' 'Costa Rica' 'Wine' '0.06']\n",
      " ...\n",
      " ['1984' 'Europe' 'Latvia' 'Spirits' '7.5']\n",
      " ['1984' 'Africa' 'Angola' 'Wine' '0.57']\n",
      " ['1984' 'Africa' 'Central African Republic' 'Wine' '0.46']]\n"
     ]
    }
   ],
   "source": [
    "year_1984 = world_alcohol[year_is_1984]\n",
    "print(year_1984)"
   ]
  },
  {
   "cell_type": "code",
   "execution_count": 30,
   "metadata": {},
   "outputs": [
    {
     "name": "stdout",
     "output_type": "stream",
     "text": [
      "[False False False ... False False False]\n"
     ]
    }
   ],
   "source": [
    "is_algeria_and_1986 = (world_alcohol[:,0] == \"1986\") & (world_alcohol[:,2] == \"Algeria\")\n",
    "print(is_algeria_and_1986)"
   ]
  },
  {
   "cell_type": "code",
   "execution_count": 31,
   "metadata": {},
   "outputs": [
    {
     "data": {
      "text/plain": [
       "array([['1986', 'Africa', 'Algeria', 'Wine', '0.1'],\n",
       "       ['1986', 'Africa', 'Algeria', 'Spirits', '0.01'],\n",
       "       ['1986', 'Africa', 'Algeria', 'Beer', '0.18'],\n",
       "       ['1986', 'Africa', 'Algeria', 'Other', '0']], dtype='<U75')"
      ]
     },
     "execution_count": 31,
     "metadata": {},
     "output_type": "execute_result"
    }
   ],
   "source": [
    "rows_with_algeria_and_1986 = world_alcohol[is_algeria_and_1986]\n",
    "rows_with_algeria_and_1986"
   ]
  },
  {
   "cell_type": "code",
   "execution_count": 32,
   "metadata": {},
   "outputs": [
    {
     "name": "stdout",
     "output_type": "stream",
     "text": [
      "[['1986' 'Western Pacific' 'Viet Nam' 'Wine' '0']\n",
      " ['1986' 'Americas' 'Uruguay' 'Other' '0.5']\n",
      " ['1985' 'Africa' \"Cte d'Ivoire\" 'Wine' '1.62']\n",
      " ...\n",
      " ['1986' 'Europe' 'Switzerland' 'Spirits' '2.54']\n",
      " ['1987' 'Western Pacific' 'Papua New Guinea' 'Other' '0']\n",
      " ['1986' 'Africa' 'Swaziland' 'Other' '5.15']]\n"
     ]
    }
   ],
   "source": [
    "world_alcohol_2 = world_alcohol\n",
    "print(world_alcohol_2)"
   ]
  },
  {
   "cell_type": "code",
   "execution_count": 33,
   "metadata": {},
   "outputs": [],
   "source": [
    "world_alcohol_2[world_alcohol_2[:,0] == \"1986\", 0] = \"2018\""
   ]
  },
  {
   "cell_type": "code",
   "execution_count": 34,
   "metadata": {},
   "outputs": [
    {
     "data": {
      "text/plain": [
       "array([['2018', 'Western Pacific', 'Viet Nam', 'Wine', '0'],\n",
       "       ['2018', 'Americas', 'Uruguay', 'Other', '0.5'],\n",
       "       ['1985', 'Africa', \"Cte d'Ivoire\", 'Wine', '1.62'],\n",
       "       ...,\n",
       "       ['2018', 'Europe', 'Switzerland', 'Spirits', '2.54'],\n",
       "       ['1987', 'Western Pacific', 'Papua New Guinea', 'Other', '0'],\n",
       "       ['2018', 'Africa', 'Swaziland', 'Other', '5.15']], dtype='<U75')"
      ]
     },
     "execution_count": 34,
     "metadata": {},
     "output_type": "execute_result"
    }
   ],
   "source": [
    "world_alcohol_2"
   ]
  },
  {
   "cell_type": "code",
   "execution_count": 35,
   "metadata": {},
   "outputs": [],
   "source": [
    "world_alcohol[world_alcohol_2[:,3] == \"Wine\", 3] = \"Beer\""
   ]
  },
  {
   "cell_type": "code",
   "execution_count": 36,
   "metadata": {},
   "outputs": [
    {
     "data": {
      "text/plain": [
       "array([['2018', 'Western Pacific', 'Viet Nam', 'Beer', '0'],\n",
       "       ['2018', 'Americas', 'Uruguay', 'Other', '0.5'],\n",
       "       ['1985', 'Africa', \"Cte d'Ivoire\", 'Beer', '1.62'],\n",
       "       ...,\n",
       "       ['2018', 'Europe', 'Switzerland', 'Spirits', '2.54'],\n",
       "       ['1987', 'Western Pacific', 'Papua New Guinea', 'Other', '0'],\n",
       "       ['2018', 'Africa', 'Swaziland', 'Other', '5.15']], dtype='<U75')"
      ]
     },
     "execution_count": 36,
     "metadata": {},
     "output_type": "execute_result"
    }
   ],
   "source": [
    "world_alcohol"
   ]
  },
  {
   "cell_type": "code",
   "execution_count": 38,
   "metadata": {},
   "outputs": [
    {
     "data": {
      "text/plain": [
       "array([False, False, False, ..., False, False, False])"
      ]
     },
     "execution_count": 38,
     "metadata": {},
     "output_type": "execute_result"
    }
   ],
   "source": [
    "is_value_empty = world_alcohol[:, 4] == \"\"\n",
    "is_value_empty"
   ]
  },
  {
   "cell_type": "code",
   "execution_count": 40,
   "metadata": {},
   "outputs": [
    {
     "data": {
      "text/plain": [
       "array([['1985', 'Africa', 'Comoros', 'Other', ''],\n",
       "       ['2018', 'Europe', 'Italy', 'Other', ''],\n",
       "       ['1985', 'Europe', 'Lithuania', 'Other', ''],\n",
       "       ...,\n",
       "       ['1984', 'Europe', 'Czech Republic', 'Other', ''],\n",
       "       ['1987', 'Americas', 'Canada', 'Other', ''],\n",
       "       ['2018', 'Europe', 'Poland', 'Other', '']], dtype='<U75')"
      ]
     },
     "execution_count": 40,
     "metadata": {},
     "output_type": "execute_result"
    }
   ],
   "source": [
    "world_alcohol[is_value_empty] "
   ]
  },
  {
   "cell_type": "code",
   "execution_count": 42,
   "metadata": {},
   "outputs": [
    {
     "data": {
      "text/plain": [
       "array([['1985', 'Africa', 'Comoros', 'Other', '0'],\n",
       "       ['2018', 'Europe', 'Italy', 'Other', '0'],\n",
       "       ['1985', 'Europe', 'Lithuania', 'Other', '0'],\n",
       "       ...,\n",
       "       ['1984', 'Europe', 'Czech Republic', 'Other', '0'],\n",
       "       ['1987', 'Americas', 'Canada', 'Other', '0'],\n",
       "       ['2018', 'Europe', 'Poland', 'Other', '0']], dtype='<U75')"
      ]
     },
     "execution_count": 42,
     "metadata": {},
     "output_type": "execute_result"
    }
   ],
   "source": [
    "world_alcohol[is_value_empty, 4] = \"0\"\n",
    "world_alcohol[is_value_empty]"
   ]
  },
  {
   "cell_type": "code",
   "execution_count": 46,
   "metadata": {},
   "outputs": [],
   "source": [
    "alcohol_consomption = world_alcohol[:,4]"
   ]
  },
  {
   "cell_type": "code",
   "execution_count": 63,
   "metadata": {},
   "outputs": [],
   "source": [
    "alcohol_consomption = alcohol_consomption.astype(float)"
   ]
  },
  {
   "cell_type": "code",
   "execution_count": 66,
   "metadata": {},
   "outputs": [
    {
     "name": "stdout",
     "output_type": "stream",
     "text": [
      "\n",
      "Total alcohol : 3908.96\n",
      "Average alcohol : 1.2001719373656738 \n",
      "\n",
      "\n"
     ]
    }
   ],
   "source": [
    "total_alcohol = alcohol_consomption.sum()\n",
    "average_alcohol = alcohol_consomption.mean()\n",
    "\n",
    "print(f\"\"\"\n",
    "Total alcohol : {total_alcohol}\n",
    "Average alcohol : {average_alcohol} \n",
    "\n",
    "\"\"\")\n"
   ]
  },
  {
   "cell_type": "code",
   "execution_count": 57,
   "metadata": {},
   "outputs": [
    {
     "data": {
      "text/plain": [
       "12.3"
      ]
     },
     "execution_count": 57,
     "metadata": {},
     "output_type": "execute_result"
    }
   ],
   "source": [
    "vec = np.array([2.3, 4, 6])\n",
    "vec.sum()"
   ]
  },
  {
   "cell_type": "markdown",
   "metadata": {},
   "source": [
    "Alcohol consomption for canada in 1986"
   ]
  },
  {
   "cell_type": "code",
   "execution_count": 68,
   "metadata": {},
   "outputs": [],
   "source": [
    "world_alcohol = np.genfromtxt(\"world_alcohol.csv\", delimiter=\",\", dtype=\"U75\", skip_header=1)"
   ]
  },
  {
   "cell_type": "code",
   "execution_count": 70,
   "metadata": {},
   "outputs": [
    {
     "data": {
      "text/plain": [
       "array([['1986', 'Americas', 'Canada', 'Other', ''],\n",
       "       ['1986', 'Americas', 'Canada', 'Spirits', '3.11'],\n",
       "       ['1986', 'Americas', 'Canada', 'Beer', '4.87'],\n",
       "       ['1986', 'Americas', 'Canada', 'Wine', '1.33']], dtype='<U75')"
      ]
     },
     "execution_count": 70,
     "metadata": {},
     "output_type": "execute_result"
    }
   ],
   "source": [
    "canada_1986 = world_alcohol[(world_alcohol[:,0] == \"1986\") & (world_alcohol[:,2] == \"Canada\")]\n",
    "canada_1986"
   ]
  },
  {
   "cell_type": "code",
   "execution_count": 75,
   "metadata": {},
   "outputs": [],
   "source": [
    "canada_1986[canada_1986[:,4] == \"\", 4] =  \"0\""
   ]
  },
  {
   "cell_type": "code",
   "execution_count": 76,
   "metadata": {},
   "outputs": [
    {
     "data": {
      "text/plain": [
       "array([['1986', 'Americas', 'Canada', 'Other', '0'],\n",
       "       ['1986', 'Americas', 'Canada', 'Spirits', '3.11'],\n",
       "       ['1986', 'Americas', 'Canada', 'Beer', '4.87'],\n",
       "       ['1986', 'Americas', 'Canada', 'Wine', '1.33']], dtype='<U75')"
      ]
     },
     "execution_count": 76,
     "metadata": {},
     "output_type": "execute_result"
    }
   ],
   "source": [
    "canada_1986"
   ]
  },
  {
   "cell_type": "code",
   "execution_count": 77,
   "metadata": {},
   "outputs": [
    {
     "data": {
      "text/plain": [
       "array([0.  , 3.11, 4.87, 1.33])"
      ]
     },
     "execution_count": 77,
     "metadata": {},
     "output_type": "execute_result"
    }
   ],
   "source": [
    "canada_alcohol = canada_1986[:, 4].astype(float)\n",
    "canada_alcohol"
   ]
  },
  {
   "cell_type": "code",
   "execution_count": 78,
   "metadata": {},
   "outputs": [],
   "source": [
    "total_canada_drinking = canada_alcohol.sum()"
   ]
  },
  {
   "cell_type": "code",
   "execution_count": 79,
   "metadata": {},
   "outputs": [
    {
     "data": {
      "text/plain": [
       "9.31"
      ]
     },
     "execution_count": 79,
     "metadata": {},
     "output_type": "execute_result"
    }
   ],
   "source": [
    "total_canada_drinking"
   ]
  },
  {
   "cell_type": "markdown",
   "metadata": {},
   "source": [
    "Alcohol consomption for each contry in 1989\n"
   ]
  },
  {
   "cell_type": "code",
   "execution_count": 80,
   "metadata": {},
   "outputs": [
    {
     "data": {
      "text/plain": [
       "array([['1989', 'Americas', 'Guatemala', 'Beer', '0.62'],\n",
       "       ['1989', 'Africa', 'Seychelles', 'Beer', '2.23'],\n",
       "       ['1989', 'Americas', 'Costa Rica', 'Spirits', '4.51'],\n",
       "       ...,\n",
       "       ['1989', 'Eastern Mediterranean', 'Morocco', 'Spirits', '0.07'],\n",
       "       ['1989', 'Europe', 'Poland', 'Beer', '2.03'],\n",
       "       ['1989', 'Europe', 'Turkey', 'Other', '0']], dtype='<U75')"
      ]
     },
     "execution_count": 80,
     "metadata": {},
     "output_type": "execute_result"
    }
   ],
   "source": [
    "year = world_alcohol[world_alcohol[:,0] == \"1989\"]\n",
    "year"
   ]
  },
  {
   "cell_type": "code",
   "execution_count": 89,
   "metadata": {},
   "outputs": [
    {
     "name": "stdout",
     "output_type": "stream",
     "text": [
      "164 : ['Guatemala', 'Seychelles', 'Costa Rica', 'Mauritius', 'Zimbabwe', 'Suriname', 'Croatia', 'Syrian Arab Republic', 'Bolivia (Plurinational State of)', 'Somalia', 'Namibia', 'Uganda', 'Afghanistan', 'Jamaica', 'Finland', 'Iraq', 'Malawi', 'Bulgaria', 'Nicaragua', 'Central African Republic', 'Burundi', 'Sweden', 'Greece', 'Kyrgyzstan', 'Belgium', 'Angola', 'Burkina Faso', 'Czech Republic', 'United Arab Emirates', 'Peru', 'Trinidad and Tobago', 'Guyana', 'Bahrain', 'Benin', 'Liberia', 'Viet Nam', 'Belarus', 'Swaziland', 'France', 'United States of America', 'Cabo Verde', 'Saudi Arabia', 'Poland', 'Senegal', 'Slovenia', 'Hungary', 'Iran (Islamic Republic of)', 'Lesotho', 'Gabon', 'Comoros', 'Italy', 'Denmark', 'Canada', 'Zambia', 'Botswana', 'Kuwait', 'Russian Federation', 'New Zealand', 'Uruguay', 'Fiji', 'Israel', \"Cte d'Ivoire\", 'Spain', 'South Africa', 'Morocco', 'Venezuela (Bolivarian Republic of)', 'Egypt', 'Ethiopia', 'Bhutan', 'Chile', 'Cambodia', 'Mali', 'Nepal', 'Kiribati', 'Dominican Republic', 'Vanuatu', 'Solomon Islands', 'Libya', 'Ukraine', 'Eritrea', 'Switzerland', 'Mexico', 'Portugal', 'El Salvador', 'Philippines', 'Netherlands', 'Mozambique', 'Togo', \"Democratic People's Republic of Korea\", 'Cuba', 'Singapore', 'Lithuania', 'Ecuador', 'Malaysia', 'Niger', 'Democratic Republic of the Congo', 'Australia', 'Cyprus', 'Antigua and Barbuda', 'Pakistan', 'Colombia', 'Saint Lucia', 'Brazil', 'Algeria', 'Malta', \"Lao People's Democratic Republic\", 'Turkey', 'Ghana', 'Mauritania', 'Cameroon', 'Bahamas', 'Djibouti', 'Equatorial Guinea', 'Oman', 'Micronesia (Federated States of)', 'Myanmar', 'Qatar', 'Rwanda', 'Mongolia', 'Latvia', 'Kenya', 'Saint Kitts and Nevis', 'Japan', 'Iceland', 'Papua New Guinea', 'Guinea-Bissau', 'Belize', 'United Republic of Tanzania', 'Paraguay', 'Thailand', 'Tunisia', 'United Kingdom of Great Britain and Northern Ireland', 'Lebanon', 'Luxembourg', 'Albania', 'Bangladesh', 'Sudan', 'Congo', 'Indonesia', 'Sierra Leone', 'Guinea', 'Panama', 'Honduras', 'Samoa', 'Brunei Darussalam', 'Germany', 'Yemen', 'Chad', 'Sri Lanka', 'Republic of Korea', 'Sao Tome and Principe', 'Slovakia', 'Haiti', 'Jordan', 'Madagascar', 'Austria', 'Norway', 'Argentina', 'Romania', 'China', 'Nigeria', 'India', 'Ireland', 'Gambia']\n"
     ]
    }
   ],
   "source": [
    "column_contry = year[:,2]\n",
    "contries = []\n",
    "\n",
    "for i in range(column_contry.shape[0]):\n",
    "    if not column_contry[i] in contries:\n",
    "        contries.append(column_contry[i])\n",
    "        \n",
    "print(f\"{len(contries)} : {contries}\")"
   ]
  },
  {
   "cell_type": "code",
   "execution_count": 102,
   "metadata": {},
   "outputs": [
    {
     "name": "stdout",
     "output_type": "stream",
     "text": [
      "{'Guatemala': 2.47, 'Seychelles': 3.3000000000000003, 'Costa Rica': 5.3999999999999995, 'Mauritius': 3.54, 'Zimbabwe': 4.92, 'Suriname': 3.67, 'Croatia': 10.92, 'Syrian Arab Republic': 0.54, 'Bolivia (Plurinational State of)': 3.05, 'Somalia': 0.0, 'Namibia': 0.24, 'Uganda': 7.8, 'Afghanistan': 0.0, 'Jamaica': 3.03, 'Finland': 9.419999999999998, 'Iraq': 0.75, 'Malawi': 1.02, 'Bulgaria': 11.43, 'Nicaragua': 2.5, 'Central African Republic': 2.5199999999999996, 'Burundi': 8.159999999999998, 'Sweden': 7.47, 'Greece': 10.15, 'Kyrgyzstan': 4.279999999999999, 'Belgium': 11.61, 'Angola': 2.28, 'Burkina Faso': 3.99, 'Czech Republic': 13.009999999999998, 'United Arab Emirates': 4.43, 'Peru': 4.99, 'Trinidad and Tobago': 4.68, 'Guyana': 9.940000000000001, 'Bahrain': 4.89, 'Benin': 1.3800000000000001, 'Liberia': 5.61, 'Viet Nam': 0.16, 'Belarus': 7.9799999999999995, 'Swaziland': 6.68, 'France': 16.05, 'United States of America': 9.16, 'Cabo Verde': 2.79, 'Saudi Arabia': 0.15, 'Poland': 9.33, 'Senegal': 0.6100000000000001, 'Slovenia': 12.969999999999999, 'Hungary': 16.29, 'Iran (Islamic Republic of)': 0.0, 'Lesotho': 2.02, 'Gabon': 9.34, 'Comoros': 0.10999999999999999, 'Italy': 10.899999999999999, 'Denmark': 11.649999999999999, 'Canada': 9.0, 'Zambia': 3.37, 'Botswana': 4.63, 'Kuwait': 0.0, 'Russian Federation': 5.35, 'New Zealand': 11.52, 'Uruguay': 7.4399999999999995, 'Fiji': 1.9600000000000002, 'Israel': 2.0300000000000002, \"Cte d'Ivoire\": 2.2, 'Spain': 13.280000000000001, 'South Africa': 9.21, 'Morocco': 0.7, 'Venezuela (Bolivarian Republic of)': 7.87, 'Egypt': 0.42000000000000004, 'Ethiopia': 0.8600000000000001, 'Bhutan': 0.31, 'Chile': 8.649999999999999, 'Cambodia': 0.33, 'Mali': 0.6699999999999999, 'Nepal': 0.03, 'Kiribati': 0.48, 'Dominican Republic': 4.53, 'Vanuatu': 1.74, 'Solomon Islands': 0.5800000000000001, 'Libya': 0.0, 'Ukraine': 5.32, 'Eritrea': 0.29, 'Switzerland': 13.849999999999998, 'Mexico': 5.1, 'Portugal': 15.350000000000001, 'El Salvador': 1.77, 'Philippines': 3.78, 'Netherlands': 10.030000000000001, 'Mozambique': 0.39, 'Togo': 2.2199999999999998, \"Democratic People's Republic of Korea\": 3.6799999999999997, 'Cuba': 4.37, 'Singapore': 1.61, 'Lithuania': 0.0, 'Ecuador': 2.54, 'Malaysia': 0.68, 'Niger': 0.11, 'Democratic Republic of the Congo': 1.92, 'Australia': 12.09, 'Cyprus': 9.29, 'Antigua and Barbuda': 4.69, 'Pakistan': 0.02, 'Colombia': 6.960000000000001, 'Saint Lucia': 11.62, 'Brazil': 5.52, 'Algeria': 0.4, 'Malta': 7.13, \"Lao People's Democratic Republic\": 5.95, 'Turkey': 0.72, 'Ghana': 1.8599999999999999, 'Mauritania': 0.02, 'Cameroon': 6.359999999999999, 'Bahamas': 12.290000000000001, 'Djibouti': 0.87, 'Equatorial Guinea': 6.49, 'Oman': 1.03, 'Micronesia (Federated States of)': 0.0, 'Myanmar': 0.16, 'Qatar': 1.4500000000000002, 'Rwanda': 7.549999999999999, 'Mongolia': 2.59, 'Latvia': 7.039999999999999, 'Kenya': 2.82, 'Saint Kitts and Nevis': 4.65, 'Japan': 7.74, 'Iceland': 5.359999999999999, 'Papua New Guinea': 1.1099999999999999, 'Guinea-Bissau': 2.67, 'Belize': 0.0, 'United Republic of Tanzania': 5.9, 'Paraguay': 6.51, 'Thailand': 3.92, 'Tunisia': 0.95, 'United Kingdom of Great Britain and Northern Ireland': 9.99, 'Lebanon': 3.94, 'Luxembourg': 15.21, 'Albania': 1.73, 'Bangladesh': 0.0, 'Sudan': 0.15, 'Congo': 3.1500000000000004, 'Indonesia': 0.07, 'Sierra Leone': 4.380000000000001, 'Guinea': 0.21, 'Panama': 4.6000000000000005, 'Honduras': 2.15, 'Samoa': 2.63, 'Brunei Darussalam': 2.7800000000000002, 'Germany': 14.64, 'Yemen': 0.2, 'Chad': 0.30000000000000004, 'Sri Lanka': 0.14, 'Republic of Korea': 9.620000000000001, 'Sao Tome and Principe': 2.57, 'Slovakia': 12.700000000000001, 'Haiti': 5.81, 'Jordan': 0.19, 'Madagascar': 1.38, 'Austria': 13.9, 'Norway': 5.08, 'Argentina': 10.82, 'Romania': 8.41, 'China': 3.33, 'Nigeria': 6.74, 'India': 1.66, 'Ireland': 11.79, 'Gambia': 1.6300000000000001}\n"
     ]
    }
   ],
   "source": [
    "totals = {}\n",
    "\n",
    "for contry in range(len(contries)):\n",
    "    contry_consomption = year[year[:,2] == contries[contry]]\n",
    "    \n",
    "    alcohol_contry_consomption = contry_consomption[:,4]\n",
    "    alcohol_contry_consomption[alcohol_contry_consomption == \"\"] = \"0\"\n",
    "    alcohol_contry_consomption = alcohol_contry_consomption.astype(float)\n",
    "    \n",
    "    total_contry_consomption = alcohol_contry_consomption.sum()\n",
    "    \n",
    "    totals[contries[contry]] = total_contry_consomption\n",
    "    \n",
    "    \n",
    "print(totals)\n",
    "    "
   ]
  },
  {
   "cell_type": "code",
   "execution_count": 117,
   "metadata": {},
   "outputs": [
    {
     "name": "stdout",
     "output_type": "stream",
     "text": [
      "Hungary : 16.29\n"
     ]
    }
   ],
   "source": [
    "highest_value = 0\n",
    "highest_contry = \"\"\n",
    "for k,v in totals.items():\n",
    "    if v > highest_value:\n",
    "        highest_value = v\n",
    "        highest_contry = k\n",
    "        \n",
    "print(f\"{highest_contry} : {highest_value}\")"
   ]
  },
  {
   "cell_type": "code",
   "execution_count": 116,
   "metadata": {},
   "outputs": [
    {
     "name": "stdout",
     "output_type": "stream",
     "text": [
      "Costa Rica : 5.3999999999999995\n"
     ]
    }
   ],
   "source": [
    "def check_value(searched_country):\n",
    "    for k,v in totals.items():\n",
    "        if k == searched_country:\n",
    "            print(f\"{k} : {v}\")\n",
    "            \n",
    "check_value(\"Costa Rica\")"
   ]
  },
  {
   "cell_type": "code",
   "execution_count": null,
   "metadata": {},
   "outputs": [],
   "source": []
  }
 ],
 "metadata": {
  "kernelspec": {
   "display_name": "Python 3",
   "language": "python",
   "name": "python3"
  },
  "language_info": {
   "codemirror_mode": {
    "name": "ipython",
    "version": 3
   },
   "file_extension": ".py",
   "mimetype": "text/x-python",
   "name": "python",
   "nbconvert_exporter": "python",
   "pygments_lexer": "ipython3",
   "version": "3.7.6"
  }
 },
 "nbformat": 4,
 "nbformat_minor": 4
}
